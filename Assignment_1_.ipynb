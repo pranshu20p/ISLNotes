{
  "nbformat": 4,
  "nbformat_minor": 0,
  "metadata": {
    "colab": {
      "name": "Assignment 1 .ipynb",
      "provenance": [],
      "authorship_tag": "ABX9TyMof9hhLbG4nK9LAt25mIox",
      "include_colab_link": true
    },
    "kernelspec": {
      "name": "python3",
      "display_name": "Python 3"
    },
    "language_info": {
      "name": "python"
    }
  },
  "cells": [
    {
      "cell_type": "markdown",
      "metadata": {
        "id": "view-in-github",
        "colab_type": "text"
      },
      "source": [
        "<a href=\"https://colab.research.google.com/github/pranshu20p/ISLNotes/blob/master/Assignment_1_.ipynb\" target=\"_parent\"><img src=\"https://colab.research.google.com/assets/colab-badge.svg\" alt=\"Open In Colab\"/></a>"
      ]
    },
    {
      "cell_type": "markdown",
      "metadata": {
        "id": "3WLhuCycH-fB"
      },
      "source": [
        "# Plot of CDF"
      ]
    },
    {
      "cell_type": "code",
      "metadata": {
        "colab": {
          "base_uri": "https://localhost:8080/",
          "height": 502
        },
        "id": "ciFa3_uyJ2nt",
        "outputId": "053fa4ce-a49b-458a-da56-3d6354174c26"
      },
      "source": [
        "import matplotlib.pyplot as plt\n",
        "\n",
        "def Probdensityfunction(c,x):\n",
        "  p=[]\n",
        "  for i in x:\n",
        "    if  ((i>=0)and (i <=1)):\n",
        "     y=c*i\n",
        "    else:\n",
        "     y=0\n",
        "    p.append(y)\n",
        "  return p #vector \n",
        "x=np.arange(-2,2,0.1)  \n",
        "print(x)\n",
        "c=2\n",
        "pdf=Probdensityfunction(c,x)\n",
        "print(pdf)\n",
        "plt.plot(x,pdf)\n",
        "plt.xlabel(\"Value of x \")\n",
        "plt.ylabel(\"PDF:f(x)\")\n",
        "plt.title(\"PDF/f(x)\")\n"
      ],
      "execution_count": 78,
      "outputs": [
        {
          "output_type": "stream",
          "text": [
            "[-2.00000000e+00 -1.90000000e+00 -1.80000000e+00 -1.70000000e+00\n",
            " -1.60000000e+00 -1.50000000e+00 -1.40000000e+00 -1.30000000e+00\n",
            " -1.20000000e+00 -1.10000000e+00 -1.00000000e+00 -9.00000000e-01\n",
            " -8.00000000e-01 -7.00000000e-01 -6.00000000e-01 -5.00000000e-01\n",
            " -4.00000000e-01 -3.00000000e-01 -2.00000000e-01 -1.00000000e-01\n",
            "  1.77635684e-15  1.00000000e-01  2.00000000e-01  3.00000000e-01\n",
            "  4.00000000e-01  5.00000000e-01  6.00000000e-01  7.00000000e-01\n",
            "  8.00000000e-01  9.00000000e-01  1.00000000e+00  1.10000000e+00\n",
            "  1.20000000e+00  1.30000000e+00  1.40000000e+00  1.50000000e+00\n",
            "  1.60000000e+00  1.70000000e+00  1.80000000e+00  1.90000000e+00]\n",
            "[0, 0, 0, 0, 0, 0, 0, 0, 0, 0, 0, 0, 0, 0, 0, 0, 0, 0, 0, 0, 3.552713678800501e-15, 0.20000000000000373, 0.4000000000000039, 0.6000000000000041, 0.8000000000000043, 1.0000000000000044, 1.2000000000000046, 1.4000000000000048, 1.600000000000005, 1.8000000000000052, 0, 0, 0, 0, 0, 0, 0, 0, 0, 0]\n"
          ],
          "name": "stdout"
        },
        {
          "output_type": "execute_result",
          "data": {
            "text/plain": [
              "Text(0.5, 1.0, 'PDF/f(x)')"
            ]
          },
          "metadata": {
            "tags": []
          },
          "execution_count": 78
        },
        {
          "output_type": "display_data",
          "data": {
            "image/png": "[encoded data removed]",
            "text/plain": [
              "<Figure size 432x288 with 1 Axes>"
            ]
          },
          "metadata": {
            "tags": [],
            "needs_background": "light"
          }
        }
      ]
    },
    {
      "cell_type": "code",
      "metadata": {
        "id": "Pm-_om1y_u7x"
      },
      "source": [
        "\n",
        "def cdf(c,x):\n",
        "  y=[]\n",
        "  for i in x:\n",
        "    if i>=0 and i<=1:\n",
        "              p=(pow(c,2)/2)*(pow(i,2)-1)\n",
        "    else:\n",
        "      p=0\n",
        "    y.append(p)\n",
        "\n",
        "  return y "
      ],
      "execution_count": 79,
      "outputs": []
    },
    {
      "cell_type": "markdown",
      "metadata": {
        "id": "oN3j8SYubaCP"
      },
      "source": [
        "CDF\n",
        " $F(X)$=$\\int_{-inf}^{x }(f(t)dt$\n",
        "\n",
        " Plot CDF"
      ]
    },
    {
      "cell_type": "markdown",
      "metadata": {
        "id": "oGqykk3LIFmz"
      },
      "source": [
        ""
      ]
    },
    {
      "cell_type": "code",
      "metadata": {
        "colab": {
          "base_uri": "https://localhost:8080/",
          "height": 312
        },
        "id": "D8QJcG7EAKZG",
        "outputId": "b3adb3b7-85c0-45a5-83f7-1c1dc7621b34"
      },
      "source": [
        "\n",
        "import numpy as np\n",
        "import random\n",
        "c=2\n",
        "x=np.arange(-2,1.5,0.1)\n",
        "y=cdf(c,x)\n",
        "\n",
        "import matplotlib.pyplot as plt\n",
        "plt.plot(x,y)\n",
        "plt.ylabel(\"F(X)\")\n",
        "plt.xlabel(\"x\")\n",
        "plt.title(\"CDF\")"
      ],
      "execution_count": 80,
      "outputs": [
        {
          "output_type": "execute_result",
          "data": {
            "text/plain": [
              "Text(0.5, 1.0, 'CDF')"
            ]
          },
          "metadata": {
            "tags": []
          },
          "execution_count": 80
        },
        {
          "output_type": "display_data",
          "data": {
            "image/png": "[encoded data removed]",
            "text/plain": [
              "<Figure size 432x288 with 1 Axes>"
            ]
          },
          "metadata": {
            "tags": [],
            "needs_background": "light"
          }
        }
      ]
    }
  ]
}